{
 "cells": [
  {
   "cell_type": "markdown",
   "id": "subjective-heavy",
   "metadata": {},
   "source": [
    "# Chess-AI Delivery\n",
    "In this document, I will create an user friendly API for my chosen model. For this I will use Anvil, Anvil is a free Python-based drag-and-drop web app builder that is able to get your trained AI working as an application.\n",
    "\n",
    "created by: Mickey krekels Class: AI45"
   ]
  },
  {
   "cell_type": "code",
   "execution_count": 1,
   "id": "outstanding-interim",
   "metadata": {},
   "outputs": [
    {
     "name": "stdout",
     "output_type": "stream",
     "text": [
      "Connecting to wss://anvil.works/uplink\n",
      "Anvil websocket open\n",
      "Connected to \"Default environment (dev)\" as SERVER\n"
     ]
    }
   ],
   "source": [
    "import anvil.server\n",
    "\n",
    "anvil.server.connect(\"RJGK7HY7ZBPPECM4PXJSL5TX-Z3DPP7MKJQK6NOQZ\")"
   ]
  },
  {
   "cell_type": "code",
   "execution_count": null,
   "id": "rental-mailing",
   "metadata": {},
   "outputs": [],
   "source": []
  }
 ],
 "metadata": {
  "kernelspec": {
   "display_name": "Python 3",
   "language": "python",
   "name": "python3"
  },
  "language_info": {
   "codemirror_mode": {
    "name": "ipython",
    "version": 3
   },
   "file_extension": ".py",
   "mimetype": "text/x-python",
   "name": "python",
   "nbconvert_exporter": "python",
   "pygments_lexer": "ipython3",
   "version": "3.9.1"
  }
 },
 "nbformat": 4,
 "nbformat_minor": 5
}
